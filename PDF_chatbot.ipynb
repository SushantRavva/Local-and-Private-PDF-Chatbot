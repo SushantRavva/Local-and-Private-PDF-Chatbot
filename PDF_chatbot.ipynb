{
  "nbformat": 4,
  "nbformat_minor": 0,
  "metadata": {
    "colab": {
      "provenance": []
    },
    "kernelspec": {
      "name": "python3",
      "display_name": "Python 3"
    },
    "language_info": {
      "name": "python"
    }
  },
  "cells": [
    {
      "cell_type": "code",
      "source": [
        "!pip install pdfminer.six\n",
        "!pip install transformers"
      ],
      "metadata": {
        "id": "2c87rp4LhKhO"
      },
      "execution_count": null,
      "outputs": []
    },
    {
      "cell_type": "code",
      "source": [
        "!pip install -U sentence-transformers"
      ],
      "metadata": {
        "id": "tEg6YIighskC"
      },
      "execution_count": null,
      "outputs": []
    },
    {
      "cell_type": "code",
      "source": [
        "!pip install text_generation"
      ],
      "metadata": {
        "id": "ITfF4CEcoVqE"
      },
      "execution_count": null,
      "outputs": []
    },
    {
      "cell_type": "code",
      "source": [
        "import argparse\n",
        "\n",
        "from pdfminer.high_level import extract_text\n",
        "from sentence_transformers import SentenceTransformer, CrossEncoder, util\n",
        "\n",
        "from text_generation import Client"
      ],
      "metadata": {
        "id": "7cIXPLcSJGOR"
      },
      "execution_count": null,
      "outputs": []
    },
    {
      "cell_type": "code",
      "source": [
        "PREPROMPT = \"Below are a series of dialogues between various people and an AI assistant. The AI tries to be helpful, polite, honest, sophisticated, emotionally aware, and humble-but-knowledgeable. The assistant is happy to help with almost anything, and will do its best to understand exactly what is needed. It also tries to avoid giving false or misleading information, and it caveats when it isn't entirely sure about the right answer. That said, the assistant is practical and really does its best, and doesn't let caution get too much in the way of being useful.\\n\"\n",
        "PROMPT = \"\"\"\"Use the following pieces of context to answer the question at the end.\n",
        "If you don't know the answer, just say that you don't know, don't try to\n",
        "make up an answer. Don't make up new terms which are not available in the context.\n",
        "\n",
        "{context}\"\"\"\n",
        "\n",
        "END_7B = \"\\n<|prompter|>{query}<|endoftext|><|assistant|>\"\n",
        "END_40B = \"\\nUser: {query}\\nFalcon:\"\n",
        "\n",
        "PARAMETERS = {\n",
        "    \"temperature\": 0.9,\n",
        "    \"top_p\": 0.95,\n",
        "    \"repetition_penalty\": 1.2,\n",
        "    \"top_k\": 50,\n",
        "    \"truncate\": 1000,\n",
        "    \"max_new_tokens\": 1024,\n",
        "    \"seed\": 42,\n",
        "    \"stop_sequences\": [\"<|endoftext|>\", \"</s>\"],\n",
        "}\n",
        "CLIENT_7B = Client(\"http://\")  # Fill this part\n",
        "CLIENT_40B = Client(\"https://\")  # Fill this part"
      ],
      "metadata": {
        "id": "w_E2C7zAJNcP"
      },
      "execution_count": null,
      "outputs": []
    },
    {
      "cell_type": "code",
      "source": [
        "def parse_args():\n",
        "    parser = argparse.ArgumentParser()\n",
        "    parser.add_argument(\"--fname\", type=str, required=True)\n",
        "    parser.add_argument(\"--top-k\", type=int, default=32)\n",
        "    parser.add_argument(\"--window-size\", type=int, default=128)\n",
        "    parser.add_argument(\"--step-size\", type=int, default=100)\n",
        "    return parser.parse_args()"
      ],
      "metadata": {
        "id": "VEJn7OhpJRG-"
      },
      "execution_count": null,
      "outputs": []
    },
    {
      "cell_type": "code",
      "source": [
        "def embed(fname, window_size, step_size):\n",
        "    text = extract_text(fname)\n",
        "    text = \" \".join(text.split())\n",
        "    text_tokens = text.split()\n",
        "\n",
        "    sentences = []\n",
        "    for i in range(0, len(text_tokens), step_size):\n",
        "        window = text_tokens[i : i + window_size]\n",
        "        if len(window) < window_size:\n",
        "            break\n",
        "        sentences.append(window)\n",
        "\n",
        "    paragraphs = [\" \".join(s) for s in sentences]\n",
        "    model = SentenceTransformer(\"sentence-transformers/all-mpnet-base-v2\")\n",
        "    model.max_seq_length = 512\n",
        "    cross_encoder = CrossEncoder(\"cross-encoder/ms-marco-MiniLM-L-6-v2\")\n",
        "\n",
        "    embeddings = model.encode(\n",
        "        paragraphs,\n",
        "        show_progress_bar=True,\n",
        "        convert_to_tensor=True,\n",
        "    )\n",
        "    return model, cross_encoder, embeddings, paragraphs"
      ],
      "metadata": {
        "id": "C8mceYXYJTiL"
      },
      "execution_count": null,
      "outputs": []
    },
    {
      "cell_type": "code",
      "source": [
        "def search(query, model, cross_encoder, embeddings, paragraphs, top_k):\n",
        "    query_embeddings = model.encode(query, convert_to_tensor=True)\n",
        "    query_embeddings = query_embeddings.cuda()\n",
        "    hits = util.semantic_search(\n",
        "        query_embeddings,\n",
        "        embeddings,\n",
        "        top_k=top_k,\n",
        "    )[0]\n",
        "\n",
        "    cross_input = [[query, paragraphs[hit[\"corpus_id\"]]] for hit in hits]\n",
        "    cross_scores = cross_encoder.predict(cross_input)\n",
        "\n",
        "    for idx in range(len(cross_scores)):\n",
        "        hits[idx][\"cross_score\"] = cross_scores[idx]\n",
        "\n",
        "    results = []\n",
        "    hits = sorted(hits, key=lambda x: x[\"cross_score\"], reverse=True)\n",
        "    for hit in hits[:5]:\n",
        "        results.append(paragraphs[hit[\"corpus_id\"]].replace(\"\\n\", \" \"))\n",
        "    return results"
      ],
      "metadata": {
        "id": "LkrJ01ApJXfK"
      },
      "execution_count": null,
      "outputs": []
    },
    {
      "cell_type": "code",
      "source": [
        "if __name__ == \"__main__\":\n",
        "    args = parse_args()\n",
        "    model, cross_encoder, embeddings, paragraphs = embed(\n",
        "        args.fname,\n",
        "        args.window_size,\n",
        "        args.step_size,\n",
        "    )\n",
        "    print(embeddings.shape)\n",
        "    while True:\n",
        "        print(\"\\n\")\n",
        "        query = input(\"Enter query: \")\n",
        "        results = search(\n",
        "            query,\n",
        "            model,\n",
        "            cross_encoder,\n",
        "            embeddings,\n",
        "            paragraphs,\n",
        "            top_k=args.top_k,\n",
        "        )\n",
        "\n",
        "        query_7b = PREPROMPT + PROMPT.format(context=\"\\n\".join(results))\n",
        "        query_7b += END_7B.format(query=query)\n",
        "\n",
        "        query_40b = PREPROMPT + PROMPT.format(context=\"\\n\".join(results))\n",
        "        query_40b += END_40B.format(query=query)\n",
        "\n",
        "        text = \"\"\n",
        "        for response in CLIENT_7B.generate_stream(query_7b, **PARAMETERS):\n",
        "            if not response.token.special:\n",
        "                text += response.token.text\n",
        "\n",
        "        print(\"\\n***7b response***\")\n",
        "        print(text)\n",
        "\n",
        "        text = \"\"\n",
        "        for response in CLIENT_40B.generate_stream(query_40b, **PARAMETERS):\n",
        "            if not response.token.special:\n",
        "                text += response.token.text\n",
        "\n",
        "        print(\"\\n***40b response***\")\n",
        "        print(text)"
      ],
      "metadata": {
        "id": "RXKnsaA3JcAE"
      },
      "execution_count": null,
      "outputs": []
    }
  ]
}